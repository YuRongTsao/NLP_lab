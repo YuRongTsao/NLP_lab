{
 "cells": [
  {
   "cell_type": "code",
   "execution_count": 4,
   "metadata": {},
   "outputs": [],
   "source": [
    "import requests\n",
    "import json\n",
    "from collections import defaultdict\n",
    "from pprint import pprint\n",
    "\n",
    "NGRAM_API_URI = \"https://{0}.linggle.com/query/\"\n",
    "EXP_API_URI = \"https://{0}.linggle.com/example/\""
   ]
  },
  {
   "cell_type": "code",
   "execution_count": 5,
   "metadata": {},
   "outputs": [],
   "source": [
    "class Linggle:\n",
    "    def __init__(self, ver='www'):\n",
    "        self.ver = ver\n",
    "\n",
    "    def __getitem__(self, query):\n",
    "        return self.search(query)\n",
    "\n",
    "    def search(self, query): #回傳query的所有結果\n",
    "        query = query.replace('/', '@')\n",
    "        req = requests.get(NGRAM_API_URI.format(self.ver) + query)\n",
    "        results = req.json()\n",
    "        return results.get('ngrams', [])\n",
    "\n",
    "    def get_example(self, ngram_str):\n",
    "        res = requests.post(EXP_API_URI.format(self.ver), json={'ngram': ngram_str})\n",
    "        if res.status_code == 200:\n",
    "            result = res.json()\n",
    "            return result.get(\"examples\", [])\n",
    "        return []"
   ]
  },
  {
   "cell_type": "code",
   "execution_count": 6,
   "metadata": {},
   "outputs": [],
   "source": [
    "def readFile(path):\n",
    "    with open(path,encoding='utf-8') as f:\n",
    "        return json.load(f)\n"
   ]
  },
  {
   "cell_type": "code",
   "execution_count": 27,
   "metadata": {},
   "outputs": [],
   "source": [
    "def getAllCombination(head):\n",
    "    return ling.search(head + ' _ _')"
   ]
  },
  {
   "cell_type": "code",
   "execution_count": 45,
   "metadata": {},
   "outputs": [],
   "source": [
    "def getTag(w1,w2):\n",
    "    words = w1 + \" \" + w2\n",
    "\n",
    "    tags = biposgram[words] if words in biposgram else uniposgram[words] if w2 in uniposgram else {}\n",
    "    totalCount = sum(list(tags.values()))\n",
    "    \n",
    "    probs = {key : value/totalCount for key,value in tags.items()}\n",
    "    tag = max(probs, key=lambda k: probs[k])\n",
    "    tag = change[tag] if tag not in boringType and tag in change else ''\n",
    "   \n",
    "    return tag"
   ]
  },
  {
   "cell_type": "code",
   "execution_count": 11,
   "metadata": {},
   "outputs": [],
   "source": [
    "def getExamples(pattern):\n",
    "    for query in result[pattern]:\n",
    "        examples = ling.get_example(query)\n",
    "        if len(examples)!= 0: \n",
    "            return examples[0]\n",
    "                        \n",
    "    return ''"
   ]
  },
  {
   "cell_type": "code",
   "execution_count": 12,
   "metadata": {},
   "outputs": [],
   "source": [
    "bigram = readFile(r'D:\\Tammy\\University\\graduate\\107-spring\\NLP\\lab_4\\bi.json')\n",
    "unigram = readFile(r'D:\\Tammy\\University\\graduate\\107-spring\\NLP\\lab_4\\un.json')\n",
    "biposgram = readFile(r'D:\\Tammy\\University\\graduate\\107-spring\\NLP\\lab_4\\pos.ngram.json')\n",
    "uniposgram = readFile(r'D:\\Tammy\\University\\graduate\\107-spring\\NLP\\lab_4\\uni.pos.json')"
   ]
  },
  {
   "cell_type": "code",
   "execution_count": 13,
   "metadata": {},
   "outputs": [],
   "source": [
    "change = readFile(r'D:\\Tammy\\University\\graduate\\107-spring\\NLP\\lab_4\\change.json')"
   ]
  },
  {
   "cell_type": "code",
   "execution_count": 46,
   "metadata": {},
   "outputs": [
    {
     "name": "stdout",
     "output_type": "stream",
     "text": [
      "defaultdict(<function <lambda> at 0x000002094CE28D08>,\n",
      "            {'happy adj. n.': defaultdict(<function <lambda>.<locals>.<lambda> at 0x000002094CE286A8>,\n",
      "                                          {'happy new year': 469100}),\n",
      "             'happy conj. adj.': defaultdict(<function <lambda>.<locals>.<lambda> at 0x000002094CE28950>,\n",
      "                                             {'happy and healthy': 93227}),\n",
      "             'happy n. n.': defaultdict(<function <lambda>.<locals>.<lambda> at 0x000002094CE288C8>,\n",
      "                                        {'happy New Year': 64717}),\n",
      "             'happy n. to': defaultdict(<function <lambda>.<locals>.<lambda> at 0x000002094CE28D90>,\n",
      "                                        {'happy birthday to': 86999}),\n",
      "             'happy to v.': defaultdict(<function <lambda>.<locals>.<lambda> at 0x00000208A6CACAE8>,\n",
      "                                        {'happy to accept': 116389,\n",
      "                                         'happy to announce': 167461,\n",
      "                                         'happy to answer': 404836,\n",
      "                                         'happy to assist': 241320,\n",
      "                                         'happy to be': 578981,\n",
      "                                         'happy to combine': 243325,\n",
      "                                         'happy to discuss': 129612,\n",
      "                                         'happy to do': 157312,\n",
      "                                         'happy to find': 82053,\n",
      "                                         'happy to get': 110641,\n",
      "                                         'happy to give': 133920,\n",
      "                                         'happy to have': 402916,\n",
      "                                         'happy to hear': 214386,\n",
      "                                         'happy to help': 562514,\n",
      "                                         'happy to know': 119286,\n",
      "                                         'happy to make': 85019,\n",
      "                                         'happy to offer': 95516,\n",
      "                                         'happy to provide': 243406,\n",
      "                                         'happy to receive': 71681,\n",
      "                                         'happy to report': 153160,\n",
      "                                         'happy to say': 158497,\n",
      "                                         'happy to see': 548353,\n",
      "                                         'happy to send': 117500,\n",
      "                                         'happy to share': 119464,\n",
      "                                         'happy to take': 164482,\n",
      "                                         'happy to talk': 78453,\n",
      "                                         'happy to work': 95745})})\n"
     ]
    }
   ],
   "source": [
    "ling = Linggle()\n",
    "\n",
    "head = 'happy'\n",
    "comb = getAllCombination(head)\n",
    "\n",
    "result = defaultdict(lambda:defaultdict(lambda:0))\n",
    "boringType = {'CD','DT','EX','FW','LS','MD','PDT','POS','PRP','PRP$','RB','RBR','RBS','RP','SYM','UH','WDT','WP','WP$','WRB'}\n",
    "\n",
    "for item in comb:\n",
    "    words = item[0]\n",
    "    splits = words.split() \n",
    "    w1 = splits[0]\n",
    "    w2 = splits[1]\n",
    "    w3 = splits[2]  \n",
    "    count = item[1]\n",
    "    \n",
    "    tag2 = getTag(w1,w2)\n",
    "    tag3 = getTag(w2,w3)\n",
    "    \n",
    "    if tag2!=''and tag3!='': \n",
    "        result[w1 + ' ' + tag2 + ' ' + tag3][w1 + ' ' + w2 + ' ' + w3] = count\n",
    "\n",
    "pprint(result)"
   ]
  },
  {
   "cell_type": "code",
   "execution_count": 47,
   "metadata": {},
   "outputs": [
    {
     "name": "stdout",
     "output_type": "stream",
     "text": [
      "['happy to v.', 'happy adj. n.', 'happy conj. adj.']\n"
     ]
    }
   ],
   "source": [
    "patterns = {pattern : sum(list(queries.values())) for pattern,queries in result.items()} \n",
    "        \n",
    "values = list(patterns.values())\n",
    "keys = list(patterns.keys())\n",
    "topPatterns = [keys[values.index(value)] for value in sorted(values,reverse = True)[:3]]\n",
    "\n",
    "pprint(topPatterns)"
   ]
  },
  {
   "cell_type": "code",
   "execution_count": 48,
   "metadata": {},
   "outputs": [
    {
     "name": "stdout",
     "output_type": "stream",
     "text": [
      "'pattern: happy to v. example: # HOMER # Happy to be alive ...'\n",
      "('pattern: happy adj. n. example: Merry Christmas , Happy Hanukkah , Happy '\n",
      " \"Solstice , Happy Socrates ' birthday and Happy New Year !\")\n",
      "('pattern: happy conj. adj. example: Based on twenty-four years of '\n",
      " 'professional experience , @@ continual review of articles and texts on music '\n",
      " 'education , I can assure you that being a \" happy and healthy \" music '\n",
      " 'educator is predicated on three fundamental principles -- organization , '\n",
      " 'organization , organization !')\n"
     ]
    }
   ],
   "source": [
    "for pattern in topPatterns:\n",
    "    pprint('pattern: ' + pattern + ' example: '+ getExamples(pattern))"
   ]
  }
 ],
 "metadata": {
  "kernelspec": {
   "display_name": "Python 3",
   "language": "python",
   "name": "python3"
  },
  "language_info": {
   "codemirror_mode": {
    "name": "ipython",
    "version": 3
   },
   "file_extension": ".py",
   "mimetype": "text/x-python",
   "name": "python",
   "nbconvert_exporter": "python",
   "pygments_lexer": "ipython3",
   "version": "3.6.8"
  }
 },
 "nbformat": 4,
 "nbformat_minor": 2
}
