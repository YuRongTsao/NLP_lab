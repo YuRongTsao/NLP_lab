{
 "cells": [
  {
   "cell_type": "code",
   "execution_count": 2,
   "metadata": {},
   "outputs": [],
   "source": [
    "import nltk # 過濾feature\n",
    "import random\n",
    "import numpy as np\n",
    "\n",
    "from sklearn.feature_extraction.text import CountVectorizer #轉成one hard encoding\n",
    "from sklearn.model_selection import train_test_split #資料切割\n",
    "from sklearn.svm import LinearSVC #model 訓練分類器\n",
    "from sklearn.metrics import accuracy_score #看最後分類正確率是多少"
   ]
  },
  {
   "cell_type": "code",
   "execution_count": 30,
   "metadata": {},
   "outputs": [],
   "source": [
    "x  , y = [] , [] # sense / guideword\n",
    "for i in open('training_data_50.txt','r', encoding='utf8').readlines():\n",
    "    token = i.strip().split('\\t')\n",
    "    x.append(token[0])\n",
    "    y.append(token[1])\n"
   ]
  },
  {
   "cell_type": "code",
   "execution_count": 11,
   "metadata": {},
   "outputs": [],
   "source": [
    "#one hard encoding\n",
    "vectorizer = CountVectorizer(min_df=1)\n",
    " \n",
    "corpus = x\n",
    "X = vectorizer.fit_transform(corpus) #計算各個詞語出現的次數\n",
    "feature_name = vectorizer.get_feature_names() #看所有關鍵字\n",
    "matrix = X.toarray()\n",
    "len(matrix)"
   ]
  },
  {
   "cell_type": "code",
   "execution_count": 20,
   "metadata": {},
   "outputs": [],
   "source": [
    "#split training data\n",
    "X_train, X_test, y_train, y_test = train_test_split(X, y, test_size=0.25, random_state=0)"
   ]
  },
  {
   "cell_type": "code",
   "execution_count": 27,
   "metadata": {},
   "outputs": [],
   "source": [
    "#training\n",
    "classifier = LinearSVC(random_state=0, tol=1e-5)\n",
    "classifier.fit(X_train, y_train)\n",
    "prediction = classifier.predict(X_test)"
   ]
  },
  {
   "cell_type": "code",
   "execution_count": 29,
   "metadata": {},
   "outputs": [
    {
     "name": "stdout",
     "output_type": "stream",
     "text": [
      "0.6085319949811794\n"
     ]
    }
   ],
   "source": [
    "#score\n",
    "print(accuracy_score(y_test, prediction))"
   ]
  }
 ],
 "metadata": {
  "kernelspec": {
   "display_name": "Python 3",
   "language": "python",
   "name": "python3"
  },
  "language_info": {
   "codemirror_mode": {
    "name": "ipython",
    "version": 3
   },
   "file_extension": ".py",
   "mimetype": "text/x-python",
   "name": "python",
   "nbconvert_exporter": "python",
   "pygments_lexer": "ipython3",
   "version": "3.6.8"
  }
 },
 "nbformat": 4,
 "nbformat_minor": 2
}
