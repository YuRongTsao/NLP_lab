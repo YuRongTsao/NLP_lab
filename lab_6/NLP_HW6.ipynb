{
 "cells": [
  {
   "cell_type": "markdown",
   "metadata": {},
   "source": [
    "# HW06 Collocation Embeddings\n",
    "### 1. Convert bnc data -> required format"
   ]
  },
  {
   "cell_type": "markdown",
   "metadata": {},
   "source": [
    "##### Make verb_noun collocation tokens\n",
    "* Keep the noun \n",
    "* He is arrested for his crime => He is arrest_crime for his crime\n"
   ]
  },
  {
   "cell_type": "code",
   "execution_count": 82,
   "metadata": {},
   "outputs": [],
   "source": [
    "import pprint\n",
    "import itertools"
   ]
  },
  {
   "cell_type": "code",
   "execution_count": 48,
   "metadata": {},
   "outputs": [],
   "source": [
    "sentences = [ line.strip() for line in open('bnc_tagged.h') ]"
   ]
  },
  {
   "cell_type": "code",
   "execution_count": 112,
   "metadata": {},
   "outputs": [],
   "source": [
    "testSentences = [sentences[i] for i in range(10000)]"
   ]
  },
  {
   "cell_type": "code",
   "execution_count": 87,
   "metadata": {},
   "outputs": [],
   "source": [
    "VBs = {'VB','VBG','VBN','VBP','VBZ'} #VBN 被動 #'VBD'be 動詞\n",
    "NNs = {'NN','NNS','NNP','NNPS'}\n",
    "Preps = {'with','in','on','at','of','for','to','about'}"
   ]
  },
  {
   "cell_type": "code",
   "execution_count": 59,
   "metadata": {},
   "outputs": [],
   "source": [
    "def writeFile(sent,fileName):\n",
    "    fo = open(fileName, \"a\")\n",
    "    fo.write(sent+'\\n')"
   ]
  },
  {
   "cell_type": "code",
   "execution_count": 91,
   "metadata": {},
   "outputs": [
    {
     "data": {
      "text/plain": [
       "4880632"
      ]
     },
     "execution_count": 91,
     "metadata": {},
     "output_type": "execute_result"
    }
   ],
   "source": [
    "len(sentences)"
   ]
  },
  {
   "cell_type": "code",
   "execution_count": 123,
   "metadata": {},
   "outputs": [
    {
     "name": "stdout",
     "output_type": "stream",
     "text": [
      "Wall time: 2.67 s\n"
     ]
    }
   ],
   "source": [
    "%%time\n",
    "for item in testSentences:\n",
    "    infos = item.split('\\t')\n",
    "    standSentence = infos[1].split()\n",
    "    tags = infos[2].split()\n",
    "    \n",
    "    V_index = ''\n",
    "    \n",
    "    for i,tag in enumerate(tags):\n",
    "        if tag in VBs: \n",
    "            V_index = i\n",
    "        if tag in NNs and V_index != '' and abs(V_index-i)<3 :\n",
    "            newVB = standSentence[V_index] + '_' + standSentence[i]\n",
    "            text = ' '.join(standSentence[:V_index]) +' ' + newVB + ' '+ ' '.join(standSentence[V_index+1:])\n",
    "            writeFile(text,'sents_NN.txt')\n",
    "            V_index = 0\n",
    "        if standSentence[i] in Preps and V_index != '' and abs(V_index-i)<3 :\n",
    "            newVB = standSentence[V_index] + '_' + standSentence[i]\n",
    "            text = ' '.join(standSentence[:V_index]) +' ' + newVB + ' '+ ' '.join(standSentence[V_index+1:])\n",
    "            writeFile(text,'sents_P.txt')\n",
    "            V_index = 0\n",
    "        "
   ]
  },
  {
   "cell_type": "markdown",
   "metadata": {},
   "source": [
    "##### Make verb_prep collocation tokens\n",
    "* Delete the prep\n",
    "* He is arrested for his crime => He is arrest_for_N his crime"
   ]
  },
  {
   "cell_type": "code",
   "execution_count": null,
   "metadata": {},
   "outputs": [],
   "source": []
  },
  {
   "cell_type": "markdown",
   "metadata": {},
   "source": [
    "### 2. Training"
   ]
  },
  {
   "cell_type": "code",
   "execution_count": 120,
   "metadata": {},
   "outputs": [],
   "source": [
    "# -*- coding: utf-8 -*-\n",
    "\n",
    "from gensim.models import word2vec\n",
    "\n",
    "def main():\n",
    "    sentences = word2vec.Text8Corpus(\"sents_P.txt\")\n",
    "    model = word2vec.Word2Vec(sentences, size=300, window=5, min_count=10, workers=4)\n",
    "\n",
    "    # Save our model: bnc.clause.300.bin / bnc.delete.clause.300.bin\n",
    "    model.wv.save_word2vec_format('bnc.delete.clause.300.bin', binary=True)\n",
    "\n",
    "\n",
    "if __name__ == \"__main__\":\n",
    "    main()"
   ]
  },
  {
   "cell_type": "markdown",
   "metadata": {},
   "source": [
    "### 3. Find similarity"
   ]
  },
  {
   "cell_type": "code",
   "execution_count": 116,
   "metadata": {},
   "outputs": [],
   "source": [
    "from gensim.models import KeyedVectors\n",
    "import re"
   ]
  },
  {
   "cell_type": "code",
   "execution_count": 117,
   "metadata": {},
   "outputs": [],
   "source": [
    "verb_noun = KeyedVectors.load_word2vec_format(\"bnc.clause.300.bin\", binary=True)\n",
    "verb_noun_clauses = [x for x in verb_noun.vocab if re.match(r'[a-z]*\\_[a-z]*', x) ]"
   ]
  },
  {
   "cell_type": "code",
   "execution_count": 118,
   "metadata": {},
   "outputs": [
    {
     "data": {
      "text/plain": [
       "[('solve', 0.8602089881896973),\n",
       " ('resolve_problem', 0.8568793535232544),\n",
       " ('overcome_problem', 0.8410978317260742),\n",
       " ('avoid_problem', 0.8370150923728943),\n",
       " ('tackle_problem', 0.8350973725318909),\n",
       " ('address_problem', 0.8343183994293213),\n",
       " ('alleviate_problem', 0.7957615256309509),\n",
       " ('see_problem', 0.7869168519973755),\n",
       " ('understand_problem', 0.774480402469635),\n",
       " ('handle_problem', 0.7679135799407959)]"
      ]
     },
     "execution_count": 118,
     "metadata": {},
     "output_type": "execute_result"
    }
   ],
   "source": [
    "verb_noun.most_similar('solve_problem')"
   ]
  },
  {
   "cell_type": "code",
   "execution_count": 121,
   "metadata": {},
   "outputs": [],
   "source": [
    "verb_prep = KeyedVectors.load_word2vec_format(\"bnc.delete.clause.300.bin\", binary=True)\n",
    "verb_prep_clauses = [x for x in verb_prep.vocab if re.match(r'[a-z]*\\_[a-z]*', x) ]"
   ]
  },
  {
   "cell_type": "code",
   "execution_count": 122,
   "metadata": {},
   "outputs": [
    {
     "data": {
      "text/plain": [
       "[('imprison_for', 0.824950098991394),\n",
       " ('prosecute_for', 0.823798418045044),\n",
       " ('sentence_for', 0.7677362561225891),\n",
       " ('sack_for', 0.7643067240715027),\n",
       " ('detain_for', 0.7507451772689819),\n",
       " ('punish_for', 0.7422752976417542),\n",
       " ('fin_for', 0.7385950088500977),\n",
       " ('dismiss_for', 0.7209904193878174),\n",
       " ('jail_for', 0.715844452381134),\n",
       " ('expel_for', 0.7147839069366455)]"
      ]
     },
     "execution_count": 122,
     "metadata": {},
     "output_type": "execute_result"
    }
   ],
   "source": [
    "verb_prep.most_similar('arrest_for')"
   ]
  },
  {
   "cell_type": "markdown",
   "metadata": {},
   "source": [
    "### BONUS\n",
    "* Combine both rule? V:prep:N"
   ]
  },
  {
   "cell_type": "code",
   "execution_count": null,
   "metadata": {},
   "outputs": [],
   "source": []
  }
 ],
 "metadata": {
  "kernelspec": {
   "display_name": "Python 3",
   "language": "python",
   "name": "python3"
  },
  "language_info": {
   "codemirror_mode": {
    "name": "ipython",
    "version": 3
   },
   "file_extension": ".py",
   "mimetype": "text/x-python",
   "name": "python",
   "nbconvert_exporter": "python",
   "pygments_lexer": "ipython3",
   "version": "3.6.8"
  }
 },
 "nbformat": 4,
 "nbformat_minor": 2
}
