{
 "cells": [
  {
   "cell_type": "code",
   "execution_count": 1,
   "metadata": {},
   "outputs": [],
   "source": [
    "import numpy as np\n",
    "import math, nltk, re\n",
    "from collections import defaultdict\n",
    "from collections import Counter\n",
    "from math import sqrt\n",
    "\n",
    "PROBLEM_WORDS = [ line.strip() for line in open('problem.slim.txt') ]\n",
    "\n",
    "lm = nltk.WordNetLemmatizer()"
   ]
  },
  {
   "cell_type": "code",
   "execution_count": 2,
   "metadata": {},
   "outputs": [],
   "source": [
    "corpus = [line.replace('\\n', '') for line in open('ef_edit.txt').readlines()]"
   ]
  },
  {
   "cell_type": "code",
   "execution_count": 3,
   "metadata": {},
   "outputs": [],
   "source": [
    "# generate all the skip-bigram of \"edit tag\"\n",
    "def list_to_skipgram(words, maxdist=5, problem_words=PROBLEM_WORDS):\n",
    "    splits = words.split()\n",
    "    result = []\n",
    "    editTags = re.findall(r'\\[\\S*|\\{\\S*',words)\n",
    "\n",
    "    for problem_word in problem_words:\n",
    "        if problem_word in splits:\n",
    "            probIndex = splits.index(problem_word)    \n",
    "            result.extend([(problem_word,tag,splits.index(tag)-probIndex)  for tag in editTags if abs(probIndex - splits.index(tag))<=maxdist])\n",
    "    return result"
   ]
  },
  {
   "cell_type": "raw",
   "metadata": {},
   "source": [
    "Output example:\n",
    "\n",
    "\"here [-'s>>are+} a number of treatments and techniques to fight claustrophobia and if you {+give+} [-try_it_a>>it_a_try+} [-bit-] you will be amazed with the results\"\n",
    "\n",
    "[('number', \"[-'s>>are+}\", -2),\n",
    " ('be', '[-bit-]', -3),\n",
    " ('be', '[-try_it_a>>it_a_try+}', -4)]"
   ]
  },
  {
   "cell_type": "code",
   "execution_count": 4,
   "metadata": {},
   "outputs": [],
   "source": [
    "# implement skip bigram\n",
    "skgm = defaultdict(lambda: defaultdict(lambda: defaultdict(lambda: 0)))\n",
    "\n",
    "for words in corpus:  \n",
    "    for item in list_to_skipgram(words):\n",
    "        skgm[item[0]][item[1]][str(item[2])]+=1 "
   ]
  },
  {
   "cell_type": "code",
   "execution_count": 5,
   "metadata": {},
   "outputs": [],
   "source": [
    "skipbigram_static = defaultdict(lambda: defaultdict(lambda: defaultdict(lambda:0)))\n",
    "# you can calculate all the required number first (freq, std, spread, etc.)\n",
    "for head,tags in skgm.items():\n",
    "    for tag,pos in tags.items():\n",
    "        skipbigram_static[head][tag]['freq'] = sum(list(pos.values()))\n",
    "        skipbigram_static[head][tag]['N'] = len(list(pos.keys()))\n",
    "        skipbigram_static[head][tag]['avg_f'] = skipbigram_static[head][tag]['freq'] / skipbigram_static[head][tag]['N']\n",
    "        skipbigram_static[head][tag]['avg_p'] = skipbigram_static[head][tag]['freq'] / 10\n",
    "        skipbigram_static[head][tag]['std'] = math.sqrt((skipbigram_static[head][tag]['freq'] - skipbigram_static[head][tag]['avg_f'])**2 / 10)\n",
    "        \n",
    "        p_freq_sumofsq = sum([(p_freq - skipbigram_static[head][tag]['avg_p'])**2 for p_freq in list(pos.values())])\n",
    "        skipbigram_static[head][tag]['spread'] = math.sqrt(p_freq_sumofsq / 10)\n"
   ]
  },
  {
   "cell_type": "code",
   "execution_count": 6,
   "metadata": {},
   "outputs": [
    {
     "data": {
      "text/plain": [
       "defaultdict(<function __main__.<lambda>.<locals>.<lambda>.<locals>.<lambda>()>,\n",
       "            {'freq': 73,\n",
       "             'N': 4,\n",
       "             'avg_f': 18.25,\n",
       "             'avg_p': 7.3,\n",
       "             'std': 17.313470189421878,\n",
       "             'spread': 13.929680541921986})"
      ]
     },
     "execution_count": 6,
     "metadata": {},
     "output_type": "execute_result"
    }
   ],
   "source": [
    "### test node\n",
    "skipbigram_static['arrive']['{+at+}']\n",
    "\n",
    "# {'freq': 73, 'avg_f': 18.25, 'avg_p': 7.3, 'spread': 15.20983234621605}"
   ]
  },
  {
   "cell_type": "code",
   "execution_count": 7,
   "metadata": {},
   "outputs": [
    {
     "name": "stdout",
     "output_type": "stream",
     "text": [
      "('explain', '[-you-]', '1', 4)\n",
      "('explain', '[-for>>to+}', '-1', 4)\n",
      "('explain', '{+to+}', '-1', 8)\n",
      "('explain', '{+to+}', '1', 30)\n",
      "('discuss', '{+the+}', '1', 6)\n",
      "('reach', '{+to+}', '-1', 4)\n"
     ]
    }
   ],
   "source": [
    "for key in ['explain' , 'discuss' , 'reach']: # problem words\n",
    "    N = len(skipbigram_static[key])\n",
    "    # implement Smadja algorithm\n",
    "\n",
    "    for tag,value in skipbigram_static[key].items():\n",
    "        if value['std']!= 0 and (value['freq'] - value['avg_f']) / value['std'] >= 1 and value['spread'] >= 1 :\n",
    "            pos = Counter(skgm[key][tag])\n",
    "            for dsit,freq in pos.items():\n",
    "                if freq > value['avg_p'] + math.sqrt(value['spread']): print((key,tag,dsit,freq))\n",
    "                \n",
    "\n",
    "    \n",
    "    "
   ]
  },
  {
   "cell_type": "raw",
   "metadata": {},
   "source": [
    "Result: \n",
    "\n",
    "explain [-you-] (1, 4)\n",
    "explain [-for>>to+} (-1, 4)\n",
    "explain {+will+} (-1, 4)\n",
    "explain {+to+} (1, 31)\n",
    "------\n",
    "discuss [-about-] (1, 11)\n",
    "discuss {+the+} (1, 5)\n",
    "------\n",
    "reach {+the+} (1, 3)\n",
    "reach {+to+} (-1, 4)\n",
    "------"
   ]
  },
  {
   "cell_type": "code",
   "execution_count": null,
   "metadata": {},
   "outputs": [],
   "source": []
  }
 ],
 "metadata": {
  "kernelspec": {
   "display_name": "Python 3",
   "language": "python",
   "name": "python3"
  },
  "language_info": {
   "codemirror_mode": {
    "name": "ipython",
    "version": 3
   },
   "file_extension": ".py",
   "mimetype": "text/x-python",
   "name": "python",
   "nbconvert_exporter": "python",
   "pygments_lexer": "ipython3",
   "version": "3.6.8"
  }
 },
 "nbformat": 4,
 "nbformat_minor": 2
}
